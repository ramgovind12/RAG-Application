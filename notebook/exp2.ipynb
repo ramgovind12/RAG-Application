{
 "cells": [
  {
   "cell_type": "code",
   "execution_count": 1,
   "metadata": {},
   "outputs": [],
   "source": [
    "import os\n",
    "from mistralai import Mistral\n",
    "\n",
    "api_key = \"nR3fP67vOHHPRRK8VD63rQevrewxhjOo\"\n",
    "model = \"mistral-large-latest\"\n",
    "\n",
    "client = Mistral(api_key=api_key)\n"
   ]
  },
  {
   "cell_type": "code",
   "execution_count": 3,
   "metadata": {},
   "outputs": [],
   "source": [
    "context = \"Two completely strangers,one(23M),another(28M) meets on a completely coincidental place where they attempt to suicide and they both fail at it miserably.Things starts to get weird when their past is revealed.\""
   ]
  },
  {
   "cell_type": "code",
   "execution_count": 7,
   "metadata": {},
   "outputs": [],
   "source": [
    "query = \"Which is the best suited genre for this?\""
   ]
  },
  {
   "cell_type": "code",
   "execution_count": 8,
   "metadata": {},
   "outputs": [],
   "source": [
    "prompt = f\"\"\"Analyze the characteristics and behavior of the characters based on the given context, and generate appropriate storyline developments or dialogue sequences to fit the narrative. Use the context and query to understand character motivations, tone, and interaction dynamics.\n",
    "\n",
    "Context: {context}\n",
    "\n",
    "Query: {query}\n",
    "\n",
    "This application assists scriptwriters by offering insights into character behavior, dialogue, and plot development. It helps develop coherent and compelling narratives by leveraging character-driven scenarios and fostering creative dialogue exchanges.\n",
    "\n",
    "\"\"\""
   ]
  },
  {
   "cell_type": "code",
   "execution_count": 9,
   "metadata": {},
   "outputs": [
    {
     "name": "stdout",
     "output_type": "stream",
     "text": [
      "Based on the given context, the best suited genres for this narrative could be:\n",
      "\n",
      "1. **Dark Comedy**: This genre would allow you to explore the grim topic of suicide in a way that highlights the absurdity and irony of the situation. The failed attempts and the strange coincidence of two strangers meeting in such a manner can be used to create humor that is dark yet thought-provoking. The characters' pasts can be revealed in a series of humorous yet poignant flashbacks or conversations.\n",
      "\n",
      "2. **Drama**: A drama would delve deep into the emotional and psychological aspects of the characters. You can explore their past traumas, the reasons behind their suicide attempts, and their journey towards healing and redemption. The narrative can focus on their growing friendship or brotherhood as they help each other overcome their personal demons.\n",
      "\n",
      "3. **Thriller/Mystery**: In this genre, the coincidental meeting could be a mystery that unravels a larger conspiracy or a shared past that the characters were unaware of. Their failed suicide attempts could be a clue to a bigger puzzle. The narrative can focus on uncovering the truth behind their pasts and the strange coincidence that brought them together.\n",
      "\n",
      "4. **Romance (Bromance)**: While it might not be the most obvious choice, a bromance could blossom from this unlikely meeting. The two characters could form a deep bond as they help each other overcome their pasts and look towards a brighter future. The narrative can focus on their growing friendship and the positive impact they have on each other's lives.\n",
      "\n",
      "Here's a short dialogue sequence that fits a Dark Comedy/Drama narrative:\n",
      "\n",
      "---\n",
      "\n",
      "**23M (Alex)**: (groaning, holding his neck) Well, that didn't go as planned.\n",
      "\n",
      "**28M (Jamie)**: (ironically) Yeah, me neither. (pauses, looks at Alex) You alright?\n",
      "\n",
      "**Alex**: (laughs softly) Not really. You?\n",
      "\n",
      "**Jamie**: (shrugs) Been better. So, what's your story, kid? Why're you here?\n",
      "\n",
      "**Alex**: (sighs) Long story. Girl troubles, mostly. You?\n",
      "\n",
      "**Jamie**: (pauses) Let's just say, my past finally caught up with me.\n",
      "\n",
      "**Alex**: (looks at Jamie) Well, we're both clearly terrible at this. Might as well stick around a bit longer.\n",
      "\n",
      "**Jamie**: (smirks) Yeah, maybe. (pauses) Wanna grab a coffee or something? My treat.\n",
      "\n",
      "**Alex**: (smiles) Sure, why not. Today can't get any weirder.\n",
      "\n",
      "---\n",
      "\n",
      "This dialogue sets the tone for a story that balances humor and seriousness, allowing the characters to process their emotions and slowly reveal their pasts.\n"
     ]
    }
   ],
   "source": [
    "\n",
    "chat_response = client.chat.complete(\n",
    "    model = model,\n",
    "    messages = [\n",
    "        {\n",
    "            \"role\": \"user\",\n",
    "            \"content\": prompt,\n",
    "        },\n",
    "    ]\n",
    ")\n",
    "\n",
    "print(chat_response.choices[0].message.content)"
   ]
  },
  {
   "cell_type": "code",
   "execution_count": null,
   "metadata": {},
   "outputs": [],
   "source": []
  }
 ],
 "metadata": {
  "kernelspec": {
   "display_name": "venv",
   "language": "python",
   "name": "python3"
  },
  "language_info": {
   "codemirror_mode": {
    "name": "ipython",
    "version": 3
   },
   "file_extension": ".py",
   "mimetype": "text/x-python",
   "name": "python",
   "nbconvert_exporter": "python",
   "pygments_lexer": "ipython3",
   "version": "3.13.2"
  }
 },
 "nbformat": 4,
 "nbformat_minor": 2
}
